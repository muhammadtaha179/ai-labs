{
 "cells": [
  {
   "cell_type": "code",
   "execution_count": 5,
   "id": "f76829e2",
   "metadata": {},
   "outputs": [
    {
     "ename": "ModuleNotFoundError",
     "evalue": "No module named 'pandas'",
     "output_type": "error",
     "traceback": [
      "\u001b[31m---------------------------------------------------------------------------\u001b[39m",
      "\u001b[31mModuleNotFoundError\u001b[39m                       Traceback (most recent call last)",
      "\u001b[36mCell\u001b[39m\u001b[36m \u001b[39m\u001b[32mIn[5]\u001b[39m\u001b[32m, line 1\u001b[39m\n\u001b[32m----> \u001b[39m\u001b[32m1\u001b[39m \u001b[38;5;28;01mimport\u001b[39;00m\u001b[38;5;250m \u001b[39m\u001b[34;01mpandas\u001b[39;00m\u001b[38;5;250m \u001b[39m\u001b[38;5;28;01mas\u001b[39;00m\u001b[38;5;250m \u001b[39m\u001b[34;01mpd\u001b[39;00m\n\u001b[32m      2\u001b[39m \u001b[38;5;28;01mimport\u001b[39;00m\u001b[38;5;250m \u001b[39m\u001b[34;01mnumpy\u001b[39;00m\u001b[38;5;250m \u001b[39m\u001b[38;5;28;01mas\u001b[39;00m\u001b[38;5;250m \u001b[39m\u001b[34;01mnp\u001b[39;00m\n\u001b[32m      3\u001b[39m \u001b[38;5;28;01mimport\u001b[39;00m\u001b[38;5;250m \u001b[39m\u001b[34;01mseaborn\u001b[39;00m\u001b[38;5;250m \u001b[39m\u001b[38;5;28;01mas\u001b[39;00m\u001b[38;5;250m \u001b[39m\u001b[34;01msns\u001b[39;00m\n",
      "\u001b[31mModuleNotFoundError\u001b[39m: No module named 'pandas'"
     ]
    }
   ],
   "source": [
    "import pandas as pd\n",
    "import numpy as np\n",
    "import seaborn as sns\n",
    "import matplotlib.pyplot as plt\n",
    "from scipy import stats\n",
    "from sklearn.linear_model import LinearRegression\n",
    "\n",
    "# Dataset\n",
    "df = pd.DataFrame({\n",
    "    \"Employee\": [\"Asad\", \"Mudassir\", \"Talha\", \"Taha\"],\n",
    "    \"Salary\": [90000, 80000, 70000, 60000],\n",
    "    \"Hours_Worked\": [5, 4, 3, 2]\n",
    "})\n",
    "\n",
    "# Statistics\n",
    "print(\"Mean Salary:\", np.mean(df[\"Salary\"]))\n",
    "print(\"Median Salary:\", np.median(df[\"Salary\"]))\n",
    "mode_result = stats.mode(df[\"Salary\"], keepdims=False)\n",
    "print(\"Mode Salary:\", mode_result.mode)\n",
    "\n",
    "# Visualization\n",
    "sns.barplot(x=\"Hours_Worked\", y=\"Salary\", data=df)\n",
    "plt.title(\"Employees Salary Analyzer\")\n",
    "plt.show()\n",
    "\n",
    "# Machine Learning\n",
    "X = df[[\"Hours_Worked\"]]\n",
    "y = df[[\"Salary\"]]\n",
    "model = LinearRegression()\n",
    "model.fit(X, y)\n",
    "\n",
    "predicted = model.predict(pd.DataFrame({\"Hours_Worked\": [12]}))\n",
    "print(\"Predicted Salary for 12 hours:\", predicted)\n"
   ]
  }
 ],
 "metadata": {
  "kernelspec": {
   "display_name": "Python 3",
   "language": "python",
   "name": "python3"
  },
  "language_info": {
   "codemirror_mode": {
    "name": "ipython",
    "version": 3
   },
   "file_extension": ".py",
   "mimetype": "text/x-python",
   "name": "python",
   "nbconvert_exporter": "python",
   "pygments_lexer": "ipython3",
   "version": "3.13.7"
  }
 },
 "nbformat": 4,
 "nbformat_minor": 5
}
